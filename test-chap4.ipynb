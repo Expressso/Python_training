{
 "cells": [
  {
   "cell_type": "code",
   "execution_count": 1,
   "metadata": {},
   "outputs": [],
   "source": [
    "import pandas as pd"
   ]
  },
  {
   "cell_type": "code",
   "execution_count": 4,
   "metadata": {},
   "outputs": [],
   "source": [
    "df = pd.read_csv(\"./datasets/WorldBank_POP.csv.xls\")"
   ]
  },
  {
   "cell_type": "code",
   "execution_count": 6,
   "metadata": {},
   "outputs": [
    {
     "name": "stdout",
     "output_type": "stream",
     "text": [
      "                      Country Name Country Code     Indicator Name  Year  \\\n",
      "0                            Aruba          ABW  Population, total  2010   \n",
      "1                      Afghanistan          AFG  Population, total  2010   \n",
      "2                           Angola          AGO  Population, total  2010   \n",
      "3                          Albania          ALB  Population, total  2010   \n",
      "4                          Andorra          AND  Population, total  2010   \n",
      "5                       Arab World          ARB  Population, total  2010   \n",
      "6             United Arab Emirates          ARE  Population, total  2010   \n",
      "7                        Argentina          ARG  Population, total  2010   \n",
      "8                          Armenia          ARM  Population, total  2010   \n",
      "9                   American Samoa          ASM  Population, total  2010   \n",
      "10             Antigua and Barbuda          ATG  Population, total  2010   \n",
      "11                       Australia          AUS  Population, total  2010   \n",
      "12                         Austria          AUT  Population, total  2010   \n",
      "13                      Azerbaijan          AZE  Population, total  2010   \n",
      "14                         Burundi          BDI  Population, total  2010   \n",
      "15                         Belgium          BEL  Population, total  2010   \n",
      "16                           Benin          BEN  Population, total  2010   \n",
      "17                    Burkina Faso          BFA  Population, total  2010   \n",
      "18                      Bangladesh          BGD  Population, total  2010   \n",
      "19                        Bulgaria          BGR  Population, total  2010   \n",
      "20                         Bahrain          BHR  Population, total  2010   \n",
      "21                    Bahamas, The          BHS  Population, total  2010   \n",
      "22          Bosnia and Herzegovina          BIH  Population, total  2010   \n",
      "23                         Belarus          BLR  Population, total  2010   \n",
      "24                          Belize          BLZ  Population, total  2010   \n",
      "25                         Bermuda          BMU  Population, total  2010   \n",
      "26                         Bolivia          BOL  Population, total  2010   \n",
      "27                          Brazil          BRA  Population, total  2010   \n",
      "28                        Barbados          BRB  Population, total  2010   \n",
      "29               Brunei Darussalam          BRN  Population, total  2010   \n",
      "30                          Bhutan          BTN  Population, total  2010   \n",
      "31                        Botswana          BWA  Population, total  2010   \n",
      "32        Central African Republic          CAF  Population, total  2010   \n",
      "33                          Canada          CAN  Population, total  2010   \n",
      "34  Central Europe and the Baltics          CEB  Population, total  2010   \n",
      "35                     Switzerland          CHE  Population, total  2010   \n",
      "36                 Channel Islands          CHI  Population, total  2010   \n",
      "37                           Chile          CHL  Population, total  2010   \n",
      "38                           China          CHN  Population, total  2010   \n",
      "39                   Cote d'Ivoire          CIV  Population, total  2010   \n",
      "40                        Cameroon          CMR  Population, total  2010   \n",
      "41                Congo, Dem. Rep.          COD  Population, total  2010   \n",
      "42                     Congo, Rep.          COG  Population, total  2010   \n",
      "43                        Colombia          COL  Population, total  2010   \n",
      "44                         Comoros          COM  Population, total  2010   \n",
      "45                      Cabo Verde          CPV  Population, total  2010   \n",
      "46                      Costa Rica          CRI  Population, total  2010   \n",
      "47          Caribbean small states          CSS  Population, total  2010   \n",
      "48                            Cuba          CUB  Population, total  2010   \n",
      "49                         Curacao          CUW  Population, total  2010   \n",
      "\n",
      "             Pop  \n",
      "0   1.016690e+05  \n",
      "1   2.918551e+07  \n",
      "2   2.335625e+07  \n",
      "3   2.913021e+06  \n",
      "4   8.444900e+04  \n",
      "5   3.548900e+08  \n",
      "6   8.549988e+06  \n",
      "7   4.078845e+07  \n",
      "8   2.877319e+06  \n",
      "9   5.607900e+04  \n",
      "10  8.802800e+04  \n",
      "11  2.203175e+07  \n",
      "12  8.363404e+06  \n",
      "13  9.054332e+06  \n",
      "14  8.675602e+06  \n",
      "15  1.089559e+07  \n",
      "16  9.199259e+06  \n",
      "17  1.560522e+07  \n",
      "18  1.475754e+08  \n",
      "19  7.395599e+06  \n",
      "20  1.240860e+06  \n",
      "21  3.549420e+05  \n",
      "22  3.705472e+06  \n",
      "23  9.490583e+06  \n",
      "24  3.224640e+05  \n",
      "25  6.512400e+04  \n",
      "26  1.004859e+07  \n",
      "27  1.957136e+08  \n",
      "28  2.821310e+05  \n",
      "29  3.886460e+05  \n",
      "30  6.855030e+05  \n",
      "31  1.987105e+06  \n",
      "32  4.386768e+06  \n",
      "33  3.400489e+07  \n",
      "34  1.044214e+08  \n",
      "35  7.824909e+06  \n",
      "36  1.597340e+05  \n",
      "37  1.706254e+07  \n",
      "38  1.337705e+09  \n",
      "39  2.053295e+07  \n",
      "40  2.034124e+07  \n",
      "41  6.456385e+07  \n",
      "42  4.273731e+06  \n",
      "43  4.522270e+07  \n",
      "44  6.896920e+05  \n",
      "45  4.926540e+05  \n",
      "46  4.577378e+06  \n",
      "47  6.973206e+06  \n",
      "48  1.122583e+07  \n",
      "49  1.487030e+05  \n"
     ]
    }
   ],
   "source": [
    "print(df.head(50))"
   ]
  },
  {
   "cell_type": "code",
   "execution_count": 6,
   "metadata": {},
   "outputs": [
    {
     "name": "stdout",
     "output_type": "stream",
     "text": [
      "                           A  B\n",
      "first_level second_level       \n",
      "3           3             18  0\n",
      "            4             19  1\n",
      "4           3             23  5\n",
      "            4             24  6\n"
     ]
    }
   ],
   "source": [
    "import pandas as pd\n",
    "\n",
    "# Create a multi-index DataFrame\n",
    "index_1 = pd.MultiIndex.from_tuples([(i,j) for i in range(5) for j in range(5)], names=['first_level', 'second_level'])\n",
    "df1 = pd.DataFrame({'A': range(25)}, index=index_1)\n",
    "#print(df1)\n",
    "\n",
    "index_2 = pd.MultiIndex.from_tuples([(i,j) for i in range(3,8) for j in range(3,8)], names=['first_level', 'second_level'])\n",
    "df2 = pd.DataFrame({'B': range(25)}, index=index_2)\n",
    "#print(df2)\n",
    "\n",
    "# Perform the join\n",
    "df3 = df1.merge(df2, how='inner', on=df1.index.names)\n",
    "print(df3)"
   ]
  },
  {
   "cell_type": "code",
   "execution_count": 10,
   "metadata": {},
   "outputs": [
    {
     "name": "stdout",
     "output_type": "stream",
     "text": [
      "                           A\n",
      "first_level second_level    \n",
      "0           0              0\n",
      "            1              1\n",
      "            2              2\n",
      "            3              3\n",
      "            4              4\n",
      "1           0              5\n",
      "            1              6\n",
      "            2              7\n",
      "            3              8\n",
      "            4              9\n",
      "2           0             10\n",
      "            1             11\n",
      "            2             12\n",
      "            3             13\n",
      "            4             14\n",
      "3           0             15\n",
      "            1             16\n",
      "            2             17\n",
      "            3             18\n",
      "            4             19\n",
      "4           0             20\n",
      "            1             21\n",
      "            2             22\n",
      "            3             23\n",
      "            4             24\n"
     ]
    }
   ],
   "source": [
    "# Create a multi-index DataFrame\n",
    "index_1 = pd.MultiIndex.from_tuples([(i,j) for i in range(5) for j in range(5)], names=['first_level', 'second_level'])\n",
    "df1 = pd.DataFrame({'A': range(25)}, index=index_1)\n",
    "print(df1)"
   ]
  },
  {
   "cell_type": "code",
   "execution_count": 11,
   "metadata": {},
   "outputs": [
    {
     "name": "stdout",
     "output_type": "stream",
     "text": [
      "                           B\n",
      "first_level second_level    \n",
      "3           3              0\n",
      "            4              1\n",
      "            5              2\n",
      "            6              3\n",
      "            7              4\n",
      "4           3              5\n",
      "            4              6\n",
      "            5              7\n",
      "            6              8\n",
      "            7              9\n",
      "5           3             10\n",
      "            4             11\n",
      "            5             12\n",
      "            6             13\n",
      "            7             14\n",
      "6           3             15\n",
      "            4             16\n",
      "            5             17\n",
      "            6             18\n",
      "            7             19\n",
      "7           3             20\n",
      "            4             21\n",
      "            5             22\n",
      "            6             23\n",
      "            7             24\n"
     ]
    }
   ],
   "source": [
    "index_2 = pd.MultiIndex.from_tuples([(i,j) for i in range(3,8) for j in range(3,8)], names=['first_level', 'second_level'])\n",
    "df2 = pd.DataFrame({'B': range(25)}, index=index_2)\n",
    "print(df2)"
   ]
  },
  {
   "cell_type": "code",
   "execution_count": 21,
   "metadata": {},
   "outputs": [
    {
     "name": "stdout",
     "output_type": "stream",
     "text": [
      "               A   B\n",
      "second_level        \n",
      "3              3   0\n",
      "3              3   5\n",
      "3              3  10\n",
      "3              3  15\n",
      "3              3  20\n",
      "3              8   0\n",
      "3              8   5\n",
      "3              8  10\n",
      "3              8  15\n",
      "3              8  20\n",
      "3             13   0\n",
      "3             13   5\n",
      "3             13  10\n",
      "3             13  15\n",
      "3             13  20\n",
      "3             18   0\n",
      "3             18   5\n",
      "3             18  10\n",
      "3             18  15\n",
      "3             18  20\n",
      "3             23   0\n",
      "3             23   5\n",
      "3             23  10\n",
      "3             23  15\n",
      "3             23  20\n",
      "4              4   1\n",
      "4              4   6\n",
      "4              4  11\n",
      "4              4  16\n",
      "4              4  21\n",
      "4              9   1\n",
      "4              9   6\n",
      "4              9  11\n",
      "4              9  16\n",
      "4              9  21\n",
      "4             14   1\n",
      "4             14   6\n",
      "4             14  11\n",
      "4             14  16\n",
      "4             14  21\n",
      "4             19   1\n",
      "4             19   6\n",
      "4             19  11\n",
      "4             19  16\n",
      "4             19  21\n",
      "4             24   1\n",
      "4             24   6\n",
      "4             24  11\n",
      "4             24  16\n",
      "4             24  21\n"
     ]
    }
   ],
   "source": [
    "df3 = df1.merge(df2, on = 'second_level', how = 'inner')\n",
    "print(df3)"
   ]
  },
  {
   "cell_type": "code",
   "execution_count": 12,
   "metadata": {},
   "outputs": [
    {
     "name": "stdout",
     "output_type": "stream",
     "text": [
      "                           A  B\n",
      "first_level second_level       \n",
      "3           3             18  0\n",
      "            4             19  1\n",
      "4           3             23  5\n",
      "            4             24  6\n"
     ]
    }
   ],
   "source": [
    "# Perform the join\n",
    "df3 = df1.merge(df2, how='inner', on=df1.index.names)\n",
    "print(df3)"
   ]
  },
  {
   "cell_type": "code",
   "execution_count": 23,
   "metadata": {},
   "outputs": [
    {
     "name": "stdout",
     "output_type": "stream",
     "text": [
      "                           A  B\n",
      "first_level second_level       \n",
      "3           3             18  0\n",
      "            4             19  1\n",
      "4           3             23  5\n",
      "            4             24  6\n"
     ]
    }
   ],
   "source": [
    "# Perform the join\n",
    "df3 = df1.merge(df2, how='inner', left_index = True, right_index = True)\n",
    "print(df3)"
   ]
  },
  {
   "cell_type": "code",
   "execution_count": 8,
   "metadata": {},
   "outputs": [
    {
     "name": "stdout",
     "output_type": "stream",
     "text": [
      "                 A_x  B_x  C_x  D_x  A_y  B_y  C_y  D_y\n",
      "level_0 level_1                                        \n",
      "a       1         A0   B0   C0   D0   A4   B4   C4   D4\n",
      "        2         A1   B1   C1   D1   A5   B5   C5   D5\n",
      "b       1         A2   B2   C2   D2  NaN  NaN  NaN  NaN\n",
      "        2         A3   B3   C3   D3  NaN  NaN  NaN  NaN\n",
      "        3        NaN  NaN  NaN  NaN   A6   B6   C6   D6\n",
      "        4        NaN  NaN  NaN  NaN   A7   B7   C7   D7\n",
      "    A_df1 B_df1 C_df1 D_df1 A_df2 B_df2 C_df2 D_df2\n",
      "a 1    A0    B0    C0    D0    A4    B4    C4    D4\n",
      "  2    A1    B1    C1    D1    A5    B5    C5    D5\n",
      "b 1    A2    B2    C2    D2   NaN   NaN   NaN   NaN\n",
      "  2    A3    B3    C3    D3   NaN   NaN   NaN   NaN\n"
     ]
    }
   ],
   "source": [
    "# DataFrames with multi-index\n",
    "df1 = pd.DataFrame({'A': ['A0', 'A1', 'A2', 'A3'],\n",
    "                    'B': ['B0', 'B1', 'B2', 'B3'],\n",
    "                    'C': ['C0', 'C1', 'C2', 'C3'],\n",
    "                    'D': ['D0', 'D1', 'D2', 'D3']},\n",
    "                   index=[['a', 'a', 'b', 'b'], ['1', '2', '1', '2']])\n",
    "\n",
    "df2 = pd.DataFrame({'A': ['A4', 'A5', 'A6', 'A7'],\n",
    "                    'B': ['B4', 'B5', 'B6', 'B7'],\n",
    "                    'C': ['C4', 'C5', 'C6', 'C7'],\n",
    "                    'D': ['D4', 'D5', 'D6', 'D7']},\n",
    "                   index=[['a', 'a', 'b', 'b'], ['1', '2', '3', '4']])\n",
    "\n",
    "# Using merge\n",
    "merged_df = df1.reset_index().merge(df2.reset_index(), how='outer', on=[\"level_0\", \"level_1\"]).set_index(['level_0', 'level_1'])\n",
    "print(merged_df)\n",
    "# Using join\n",
    "joined_df = df1.join(df2, lsuffix=\"_df1\", rsuffix=\"_df2\")\n",
    "print(joined_df)"
   ]
  },
  {
   "cell_type": "code",
   "execution_count": 24,
   "metadata": {},
   "outputs": [
    {
     "name": "stdout",
     "output_type": "stream",
     "text": [
      "  key  value_x  value_y  value\n",
      "0   A        1      NaN      8\n",
      "1   B        2      5.0      8\n",
      "2   C        3      5.0      8\n",
      "3   D        3      6.0      8\n",
      "4   E        3      6.0      9\n",
      "5   F        3      7.0     10\n"
     ]
    }
   ],
   "source": [
    "import pandas as pd\n",
    "from functools import reduce\n",
    "\n",
    "df1 = pd.DataFrame({\n",
    "    'key': ['A', 'B', 'C'],\n",
    "    'value': [1, 2, 3]\n",
    "})\n",
    "\n",
    "df2 = pd.DataFrame({\n",
    "    'key': ['B', 'D', 'F'],\n",
    "    'value': [5, 6, 7]\n",
    "})\n",
    "\n",
    "df3 = pd.DataFrame({\n",
    "    'key': ['A', 'E', 'F'],\n",
    "    'value': [8, 9, 10]\n",
    "})\n",
    "\n",
    "dfs = [df1, df2, df3]\n",
    "\n",
    "merged = reduce(lambda left,right: pd.merge_ordered(left,right,on='key',fill_method='ffill'), dfs)\n",
    "print(merged)"
   ]
  },
  {
   "cell_type": "code",
   "execution_count": null,
   "metadata": {},
   "outputs": [],
   "source": []
  }
 ],
 "metadata": {
  "kernelspec": {
   "display_name": ".venv",
   "language": "python",
   "name": "python3"
  },
  "language_info": {
   "codemirror_mode": {
    "name": "ipython",
    "version": 3
   },
   "file_extension": ".py",
   "mimetype": "text/x-python",
   "name": "python",
   "nbconvert_exporter": "python",
   "pygments_lexer": "ipython3",
   "version": "3.11.1"
  },
  "orig_nbformat": 4
 },
 "nbformat": 4,
 "nbformat_minor": 2
}
